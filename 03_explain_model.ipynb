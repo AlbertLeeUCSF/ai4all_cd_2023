{
 "cells": [
  {
   "cell_type": "code",
   "execution_count": 1,
   "id": "4cb31276-71ff-4ca4-ac2d-50d05b2b1a70",
   "metadata": {
    "editable": true,
    "slideshow": {
     "slide_type": ""
    },
    "tags": []
   },
   "outputs": [],
   "source": [
    "import os\n",
    "import pandas as pd\n",
    "import numpy as np\n",
    "\n",
    "import joblib\n",
    "import pickle\n",
    "from sklearn.inspection import permutation_importance, PartialDependenceDisplay"
   ]
  },
  {
   "cell_type": "code",
   "execution_count": 6,
   "id": "cefaf701-2469-4023-b838-f099d6d4fefd",
   "metadata": {},
   "outputs": [],
   "source": [
    "X_train = pickle.load(open('../data/processed/X_train.sav', 'rb'))\n",
    "X_test = pickle.load(open('../data/processed/X_test.sav', 'rb'))\n",
    "y_train = pickle.load(open('../data/processed/y_train.sav', 'rb'))\n",
    "y_test = pickle.load(open('../data/processed/y_test.sav', 'rb'))\n",
    "lr_pipe = joblib.load('../models/logistic_regression_pipeline.sav')\n",
    "rf_pipe = joblib.load('../models/random_forest_pipeline.sav')\n",
    "knn_pipe = joblib.load('../models/k_nearest_neighbors_pipeline.sav')\n",
    "xgb_pipe = joblib.load('../models/gradient_boost_pipeline.sav')"
   ]
  },
  {
   "cell_type": "code",
   "execution_count": 12,
   "id": "1014e43c-8c86-46ec-ad75-99025d2b4cdc",
   "metadata": {
    "editable": true,
    "slideshow": {
     "slide_type": ""
    },
    "tags": []
   },
   "outputs": [
    {
     "data": {
      "text/html": [
       "<div>\n",
       "<style scoped>\n",
       "    .dataframe tbody tr th:only-of-type {\n",
       "        vertical-align: middle;\n",
       "    }\n",
       "\n",
       "    .dataframe tbody tr th {\n",
       "        vertical-align: top;\n",
       "    }\n",
       "\n",
       "    .dataframe thead th {\n",
       "        text-align: right;\n",
       "    }\n",
       "</style>\n",
       "<table border=\"1\" class=\"dataframe\">\n",
       "  <thead>\n",
       "    <tr style=\"text-align: right;\">\n",
       "      <th></th>\n",
       "      <th>importance_means</th>\n",
       "      <th>importances_std</th>\n",
       "    </tr>\n",
       "  </thead>\n",
       "  <tbody>\n",
       "    <tr>\n",
       "      <th>RIDAGEYR</th>\n",
       "      <td>0.077309</td>\n",
       "      <td>0.001161</td>\n",
       "    </tr>\n",
       "    <tr>\n",
       "      <th>INDHHIN2</th>\n",
       "      <td>0.050026</td>\n",
       "      <td>0.001146</td>\n",
       "    </tr>\n",
       "    <tr>\n",
       "      <th>PAD680</th>\n",
       "      <td>0.049339</td>\n",
       "      <td>0.000829</td>\n",
       "    </tr>\n",
       "    <tr>\n",
       "      <th>RIDRETH3</th>\n",
       "      <td>0.034302</td>\n",
       "      <td>0.000865</td>\n",
       "    </tr>\n",
       "    <tr>\n",
       "      <th>MCQ084</th>\n",
       "      <td>0.030865</td>\n",
       "      <td>0.000855</td>\n",
       "    </tr>\n",
       "    <tr>\n",
       "      <th>DBQ700</th>\n",
       "      <td>0.027346</td>\n",
       "      <td>0.000299</td>\n",
       "    </tr>\n",
       "    <tr>\n",
       "      <th>DPQ020</th>\n",
       "      <td>0.019202</td>\n",
       "      <td>0.001103</td>\n",
       "    </tr>\n",
       "    <tr>\n",
       "      <th>CDQ001</th>\n",
       "      <td>0.011434</td>\n",
       "      <td>0.000679</td>\n",
       "    </tr>\n",
       "    <tr>\n",
       "      <th>DIQ010</th>\n",
       "      <td>0.011246</td>\n",
       "      <td>0.001066</td>\n",
       "    </tr>\n",
       "    <tr>\n",
       "      <th>MCQ080</th>\n",
       "      <td>0.010726</td>\n",
       "      <td>0.000527</td>\n",
       "    </tr>\n",
       "    <tr>\n",
       "      <th>RIAGENDR</th>\n",
       "      <td>0.010580</td>\n",
       "      <td>0.000620</td>\n",
       "    </tr>\n",
       "    <tr>\n",
       "      <th>BPQ080</th>\n",
       "      <td>0.009914</td>\n",
       "      <td>0.000657</td>\n",
       "    </tr>\n",
       "    <tr>\n",
       "      <th>MCQ220</th>\n",
       "      <td>0.006269</td>\n",
       "      <td>0.000692</td>\n",
       "    </tr>\n",
       "    <tr>\n",
       "      <th>BPQ020</th>\n",
       "      <td>0.004040</td>\n",
       "      <td>0.000524</td>\n",
       "    </tr>\n",
       "  </tbody>\n",
       "</table>\n",
       "</div>"
      ],
      "text/plain": [
       "          importance_means  importances_std\n",
       "RIDAGEYR          0.077309         0.001161\n",
       "INDHHIN2          0.050026         0.001146\n",
       "PAD680            0.049339         0.000829\n",
       "RIDRETH3          0.034302         0.000865\n",
       "MCQ084            0.030865         0.000855\n",
       "DBQ700            0.027346         0.000299\n",
       "DPQ020            0.019202         0.001103\n",
       "CDQ001            0.011434         0.000679\n",
       "DIQ010            0.011246         0.001066\n",
       "MCQ080            0.010726         0.000527\n",
       "RIAGENDR          0.010580         0.000620\n",
       "BPQ080            0.009914         0.000657\n",
       "MCQ220            0.006269         0.000692\n",
       "BPQ020            0.004040         0.000524"
      ]
     },
     "execution_count": 12,
     "metadata": {},
     "output_type": "execute_result"
    }
   ],
   "source": [
    "r = permutation_importance(\n",
    "    #knn_pipe,\n",
    "    #rf_pipe,\n",
    "    xgb_pipe,\n",
    "    X_train, \n",
    "    y_train,\n",
    "    n_repeats=5,\n",
    "    n_jobs=-1,\n",
    "    random_state=42 #Ensures results can be reproduced by using random generator\n",
    ")\n",
    "\n",
    "feature_importances = pd.DataFrame.from_dict(\n",
    "    {\n",
    "        'importance_means': r['importances_mean'],\n",
    "        'importances_std': r['importances_std']\n",
    "    }, orient='columns'\n",
    ")\n",
    "feature_importances.index = X_train.columns\n",
    "\n",
    "feature_importances.sort_values('importance_means', ascending = False)"
   ]
  },
  {
   "cell_type": "code",
   "execution_count": 11,
   "id": "13ced074-c8ce-408a-bb3b-135209e65e97",
   "metadata": {
    "editable": true,
    "slideshow": {
     "slide_type": ""
    },
    "tags": []
   },
   "outputs": [
    {
     "data": {
      "text/plain": [
       "<sklearn.inspection._plot.partial_dependence.PartialDependenceDisplay at 0x284e0fe50>"
      ]
     },
     "execution_count": 11,
     "metadata": {},
     "output_type": "execute_result"
    },
    {
     "data": {
      "image/png": "[encoded data removed]",
      "text/plain": [
       "<Figure size 640x480 with 3 Axes>"
      ]
     },
     "metadata": {},
     "output_type": "display_data"
    }
   ],
   "source": [
    "PartialDependenceDisplay.from_estimator(xgb_pipe, X_train.dropna(), features = ['RIDAGEYR', 'INDHHIN2'], target=1)"
   ]
  },
  {
   "cell_type": "code",
   "execution_count": null,
   "id": "6f846bcb-aead-4ae8-a023-af4b0f5add50",
   "metadata": {},
   "outputs": [],
   "source": []
  }
 ],
 "metadata": {
  "kernelspec": {
   "display_name": "Python 3 (ipykernel)",
   "language": "python",
   "name": "python3"
  },
  "language_info": {
   "codemirror_mode": {
    "name": "ipython",
    "version": 3
   },
   "file_extension": ".py",
   "mimetype": "text/x-python",
   "name": "python",
   "nbconvert_exporter": "python",
   "pygments_lexer": "ipython3",
   "version": "3.11.4"
  }
 },
 "nbformat": 4,
 "nbformat_minor": 5
}
