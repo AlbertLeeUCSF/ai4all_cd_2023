{
 "cells": [
  {
   "cell_type": "code",
   "execution_count": 1,
   "id": "4cb31276-71ff-4ca4-ac2d-50d05b2b1a70",
   "metadata": {
    "editable": true,
    "slideshow": {
     "slide_type": ""
    },
    "tags": []
   },
   "outputs": [],
   "source": [
    "import os\n",
    "import pandas as pd\n",
    "import numpy as np\n",
    "\n",
    "import joblib\n",
    "import pickle\n",
    "\n",
    "from sklearn.pipeline import Pipeline\n",
    "\n",
    "from sklearn.decomposition import PCA\n",
    "from sklearn.impute import SimpleImputer\n",
    "from sklearn.preprocessing import OneHotEncoder\n",
    "from sklearn.preprocessing import StandardScaler\n",
    "\n",
    "from sklearn.linear_model import LogisticRegression\n",
    "\n",
    "from sklearn.model_selection import cross_validate\n",
    "from sklearn.metrics import roc_auc_score"
   ]
  },
  {
   "cell_type": "code",
   "execution_count": 2,
   "id": "cefaf701-2469-4023-b838-f099d6d4fefd",
   "metadata": {},
   "outputs": [],
   "source": [
    "X_train = pickle.load(open('../data/processed/X_train.sav', 'rb'))\n",
    "X_test = pickle.load(open('../data/processed/X_test.sav', 'rb'))\n",
    "y_train = pickle.load(open('../data/processed/y_train.sav', 'rb'))\n",
    "y_test = pickle.load(open('../data/processed/y_test.sav', 'rb'))\n",
    "lr_pipe = joblib.load('../models/logistic_regression_pipeline.sav')"
   ]
  },
  {
   "cell_type": "code",
   "execution_count": 3,
   "id": "1014e43c-8c86-46ec-ad75-99025d2b4cdc",
   "metadata": {},
   "outputs": [],
   "source": [
    "merged_nhanes_df = pd.read_csv('../data/processed/merged_nhanes.csv')"
   ]
  },
  {
   "cell_type": "markdown",
   "id": "f71caba4-e964-4b4c-b702-798b9e375af2",
   "metadata": {},
   "source": [
    "# Equal Accuracy"
   ]
  },
  {
   "cell_type": "markdown",
   "id": "bbd4bf77-070d-4fcb-8dad-583dfbddf3b3",
   "metadata": {},
   "source": [
    "# Gender"
   ]
  },
  {
   "cell_type": "code",
   "execution_count": 4,
   "id": "cb81d157-1edb-43b2-a357-d8de04a0779d",
   "metadata": {},
   "outputs": [],
   "source": [
    "gender_test = merged_nhanes_df.loc[X_test.index, 'RIAGENDR']\n",
    "X_test_gender_1 = X_test[gender_test == 1]\n",
    "X_test_gender_2 = X_test[gender_test == 2]\n",
    "y_test_gender_1 = y_test[gender_test == 1]\n",
    "y_test_gender_2 = y_test[gender_test == 2]"
   ]
  },
  {
   "cell_type": "code",
   "execution_count": 5,
   "id": "a85da761-a192-45cc-94e4-2fb0b6f02cf9",
   "metadata": {},
   "outputs": [],
   "source": [
    "test_score_gender_1 = roc_auc_score(y_test_gender_1, lr_pipe.predict_proba(X_test_gender_1)[:, 1])\n",
    "test_score_gender_2 = roc_auc_score(y_test_gender_2, lr_pipe.predict_proba(X_test_gender_2)[:, 1])"
   ]
  },
  {
   "cell_type": "code",
   "execution_count": 6,
   "id": "e39b2747-7972-4f3d-a79b-aa53766e6045",
   "metadata": {},
   "outputs": [
    {
     "data": {
      "text/plain": [
       "0.8288611996522747"
      ]
     },
     "execution_count": 6,
     "metadata": {},
     "output_type": "execute_result"
    }
   ],
   "source": [
    "test_score_gender_1"
   ]
  },
  {
   "cell_type": "code",
   "execution_count": 7,
   "id": "13ced074-c8ce-408a-bb3b-135209e65e97",
   "metadata": {},
   "outputs": [
    {
     "data": {
      "text/plain": [
       "0.8482523444160271"
      ]
     },
     "execution_count": 7,
     "metadata": {},
     "output_type": "execute_result"
    }
   ],
   "source": [
    "test_score_gender_2"
   ]
  },
  {
   "cell_type": "markdown",
   "id": "9e7e57a4-4c25-4da5-9cb8-eca3e703e631",
   "metadata": {},
   "source": [
    "# Ethinicity"
   ]
  },
  {
   "cell_type": "code",
   "execution_count": 21,
   "id": "3ff924da-1f55-4b70-b968-bdbca36c3a9b",
   "metadata": {},
   "outputs": [],
   "source": [
    "ethnicity_test = merged_nhanes_df.loc[X_test.index, 'RIDRETH1']"
   ]
  },
  {
   "cell_type": "code",
   "execution_count": 24,
   "id": "f308e733-bd6d-47e9-8613-932416977b79",
   "metadata": {},
   "outputs": [],
   "source": [
    "X_test_ethnicity_1 = X_test[ethnicity_test == 1]\n",
    "X_test_ethnicity_2 = X_test[ethnicity_test == 2]\n",
    "X_test_ethnicity_3 = X_test[ethnicity_test == 3]\n",
    "X_test_ethnicity_4 = X_test[ethnicity_test == 4]\n",
    "X_test_ethnicity_5 = X_test[ethnicity_test == 5]\n",
    "y_test_ethnicity_1 = y_test[ethnicity_test == 1]\n",
    "y_test_ethnicity_2 = y_test[ethnicity_test == 2]\n",
    "y_test_ethnicity_3 = y_test[ethnicity_test == 3]\n",
    "y_test_ethnicity_4 = y_test[ethnicity_test == 4]\n",
    "y_test_ethnicity_5 = y_test[ethnicity_test == 5]"
   ]
  },
  {
   "cell_type": "code",
   "execution_count": 25,
   "id": "fe57b813-4999-482e-8746-5a7fd4270af7",
   "metadata": {},
   "outputs": [],
   "source": [
    "test_score_ethnicity_1 = roc_auc_score(y_test_ethnicity_1, lr_pipe.predict_proba(X_test_ethnicity_1)[:, 1])\n",
    "test_score_ethnicity_2 = roc_auc_score(y_test_ethnicity_2, lr_pipe.predict_proba(X_test_ethnicity_2)[:, 1])\n",
    "test_score_ethnicity_3 = roc_auc_score(y_test_ethnicity_3, lr_pipe.predict_proba(X_test_ethnicity_3)[:, 1])\n",
    "test_score_ethnicity_4 = roc_auc_score(y_test_ethnicity_4, lr_pipe.predict_proba(X_test_ethnicity_4)[:, 1])\n",
    "test_score_ethnicity_5 = roc_auc_score(y_test_ethnicity_5, lr_pipe.predict_proba(X_test_ethnicity_5)[:, 1])"
   ]
  },
  {
   "cell_type": "code",
   "execution_count": 26,
   "id": "82689006-2c36-4c1f-b7cf-571d9dc3fc25",
   "metadata": {},
   "outputs": [
    {
     "data": {
      "text/plain": [
       "0.4829931972789116"
      ]
     },
     "execution_count": 26,
     "metadata": {},
     "output_type": "execute_result"
    }
   ],
   "source": [
    "test_score_ethnicity_1"
   ]
  },
  {
   "cell_type": "code",
   "execution_count": 27,
   "id": "b213b5c9-778f-42fe-9d1c-a7a46909c6d7",
   "metadata": {},
   "outputs": [
    {
     "data": {
      "text/plain": [
       "0.7326530612244898"
      ]
     },
     "execution_count": 27,
     "metadata": {},
     "output_type": "execute_result"
    }
   ],
   "source": [
    "test_score_ethnicity_2"
   ]
  },
  {
   "cell_type": "code",
   "execution_count": 28,
   "id": "744b8a77-3cda-433c-a108-bf1f1554e873",
   "metadata": {},
   "outputs": [
    {
     "data": {
      "text/plain": [
       "0.6749189507810197"
      ]
     },
     "execution_count": 28,
     "metadata": {},
     "output_type": "execute_result"
    }
   ],
   "source": [
    "test_score_ethnicity_3"
   ]
  },
  {
   "cell_type": "code",
   "execution_count": 29,
   "id": "53655307-3f6d-471b-8c24-5e26cb233054",
   "metadata": {},
   "outputs": [
    {
     "data": {
      "text/plain": [
       "0.665085817524842"
      ]
     },
     "execution_count": 29,
     "metadata": {},
     "output_type": "execute_result"
    }
   ],
   "source": [
    "test_score_ethnicity_4"
   ]
  },
  {
   "cell_type": "code",
   "execution_count": 30,
   "id": "54920a78-3348-4c54-bb7b-0887aaf6b069",
   "metadata": {},
   "outputs": [
    {
     "data": {
      "text/plain": [
       "0.6000000000000001"
      ]
     },
     "execution_count": 30,
     "metadata": {},
     "output_type": "execute_result"
    }
   ],
   "source": [
    "test_score_ethnicity_5"
   ]
  },
  {
   "cell_type": "markdown",
   "id": "2386e47e-b75c-4bf0-9346-44f52bf8c9d5",
   "metadata": {},
   "source": [
    "# Citizenship"
   ]
  },
  {
   "cell_type": "code",
   "execution_count": 32,
   "id": "438ae32e-4459-4365-948d-5349a9010343",
   "metadata": {},
   "outputs": [],
   "source": [
    "citizen_test = merged_nhanes_df.loc[X_test.index, 'DMDCITZN']"
   ]
  },
  {
   "cell_type": "code",
   "execution_count": 34,
   "id": "12472e28-b92d-41cf-ace8-a757b32e2237",
   "metadata": {},
   "outputs": [],
   "source": [
    "X_test_citizen_1 = X_test[citizen_test == 1]\n",
    "X_test_citizen_2 = X_test[citizen_test == 2]\n",
    "y_test_citizen_1 = y_test[citizen_test == 1]\n",
    "y_test_citizen_2 = y_test[citizen_test == 2]"
   ]
  },
  {
   "cell_type": "code",
   "execution_count": 35,
   "id": "41280891-9973-45d0-a59b-4204f1d843cf",
   "metadata": {},
   "outputs": [],
   "source": [
    "test_score_citizen_1 = roc_auc_score(y_test_citizen_1, lr_pipe.predict_proba(X_test_citizen_1)[:, 1])\n",
    "test_score_citizen_2 = roc_auc_score(y_test_citizen_2, lr_pipe.predict_proba(X_test_citizen_2)[:, 1])"
   ]
  },
  {
   "cell_type": "code",
   "execution_count": 36,
   "id": "c67a0aee-3eae-4bc5-980b-f31585caec5e",
   "metadata": {},
   "outputs": [
    {
     "data": {
      "text/plain": [
       "0.6654323273467877"
      ]
     },
     "execution_count": 36,
     "metadata": {},
     "output_type": "execute_result"
    }
   ],
   "source": [
    "test_score_citizen_1"
   ]
  },
  {
   "cell_type": "code",
   "execution_count": 37,
   "id": "9a2ce665-4b2e-4c89-83eb-aa5c3345f628",
   "metadata": {},
   "outputs": [
    {
     "data": {
      "text/plain": [
       "0.60375"
      ]
     },
     "execution_count": 37,
     "metadata": {},
     "output_type": "execute_result"
    }
   ],
   "source": [
    "test_score_citizen_2"
   ]
  },
  {
   "cell_type": "code",
   "execution_count": null,
   "id": "c52dfe3f-ffe9-4042-bb06-a240fe1ef3d2",
   "metadata": {},
   "outputs": [],
   "source": []
  }
 ],
 "metadata": {
  "kernelspec": {
   "display_name": "Python 3 (ipykernel)",
   "language": "python",
   "name": "python3"
  },
  "language_info": {
   "codemirror_mode": {
    "name": "ipython",
    "version": 3
   },
   "file_extension": ".py",
   "mimetype": "text/x-python",
   "name": "python",
   "nbconvert_exporter": "python",
   "pygments_lexer": "ipython3",
   "version": "3.11.4"
  }
 },
 "nbformat": 4,
 "nbformat_minor": 5
}
