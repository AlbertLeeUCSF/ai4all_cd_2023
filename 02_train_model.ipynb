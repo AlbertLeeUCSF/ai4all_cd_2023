{
 "cells": [
  {
   "cell_type": "code",
   "execution_count": 1,
   "id": "c333b53e-9e01-4d01-b78c-0833e3fb0e97",
   "metadata": {},
   "outputs": [],
   "source": [
    "!python3 -m venv env"
   ]
  },
  {
   "cell_type": "code",
   "execution_count": 2,
   "id": "3d864b2e-a5fa-45fe-8ca6-05ade6f5f501",
   "metadata": {},
   "outputs": [],
   "source": [
    "!source env/bin/activate"
   ]
  },
  {
   "cell_type": "code",
   "execution_count": 3,
   "id": "7890983e-f2f2-4cb9-a094-69dcbf8f4613",
   "metadata": {},
   "outputs": [
    {
     "name": "stdout",
     "output_type": "stream",
     "text": [
      "Requirement already satisfied: seaborn in /Users/saniab/Desktop/nhanes_2023-main/env/lib/python3.11/site-packages (0.12.2)\n",
      "Requirement already satisfied: numpy!=1.24.0,>=1.17 in /Users/saniab/Desktop/nhanes_2023-main/env/lib/python3.11/site-packages (from seaborn) (1.25.1)\n",
      "Requirement already satisfied: pandas>=0.25 in /Users/saniab/Desktop/nhanes_2023-main/env/lib/python3.11/site-packages (from seaborn) (2.0.3)\n",
      "Requirement already satisfied: matplotlib!=3.6.1,>=3.1 in /Users/saniab/Desktop/nhanes_2023-main/env/lib/python3.11/site-packages (from seaborn) (3.7.1)\n",
      "Requirement already satisfied: contourpy>=1.0.1 in /Users/saniab/Desktop/nhanes_2023-main/env/lib/python3.11/site-packages (from matplotlib!=3.6.1,>=3.1->seaborn) (1.1.0)\n",
      "Requirement already satisfied: cycler>=0.10 in /Users/saniab/Desktop/nhanes_2023-main/env/lib/python3.11/site-packages (from matplotlib!=3.6.1,>=3.1->seaborn) (0.11.0)\n",
      "Requirement already satisfied: fonttools>=4.22.0 in /Users/saniab/Desktop/nhanes_2023-main/env/lib/python3.11/site-packages (from matplotlib!=3.6.1,>=3.1->seaborn) (4.41.0)\n",
      "Requirement already satisfied: kiwisolver>=1.0.1 in /Users/saniab/Desktop/nhanes_2023-main/env/lib/python3.11/site-packages (from matplotlib!=3.6.1,>=3.1->seaborn) (1.4.4)\n",
      "Requirement already satisfied: packaging>=20.0 in /Users/saniab/Desktop/nhanes_2023-main/env/lib/python3.11/site-packages (from matplotlib!=3.6.1,>=3.1->seaborn) (23.1)\n",
      "Requirement already satisfied: pillow>=6.2.0 in /Users/saniab/Desktop/nhanes_2023-main/env/lib/python3.11/site-packages (from matplotlib!=3.6.1,>=3.1->seaborn) (10.0.0)\n",
      "Requirement already satisfied: pyparsing>=2.3.1 in /Users/saniab/Desktop/nhanes_2023-main/env/lib/python3.11/site-packages (from matplotlib!=3.6.1,>=3.1->seaborn) (3.1.0)\n",
      "Requirement already satisfied: python-dateutil>=2.7 in /Users/saniab/Desktop/nhanes_2023-main/env/lib/python3.11/site-packages (from matplotlib!=3.6.1,>=3.1->seaborn) (2.8.2)\n",
      "Requirement already satisfied: pytz>=2020.1 in /Users/saniab/Desktop/nhanes_2023-main/env/lib/python3.11/site-packages (from pandas>=0.25->seaborn) (2023.3)\n",
      "Requirement already satisfied: tzdata>=2022.1 in /Users/saniab/Desktop/nhanes_2023-main/env/lib/python3.11/site-packages (from pandas>=0.25->seaborn) (2023.3)\n",
      "Requirement already satisfied: six>=1.5 in /Users/saniab/Desktop/nhanes_2023-main/env/lib/python3.11/site-packages (from python-dateutil>=2.7->matplotlib!=3.6.1,>=3.1->seaborn) (1.16.0)\n",
      "\n",
      "\u001b[1m[\u001b[0m\u001b[34;49mnotice\u001b[0m\u001b[1;39;49m]\u001b[0m\u001b[39;49m A new release of pip is available: \u001b[0m\u001b[31;49m23.1.2\u001b[0m\u001b[39;49m -> \u001b[0m\u001b[32;49m23.2.1\u001b[0m\n",
      "\u001b[1m[\u001b[0m\u001b[34;49mnotice\u001b[0m\u001b[1;39;49m]\u001b[0m\u001b[39;49m To update, run: \u001b[0m\u001b[32;49mpip install --upgrade pip\u001b[0m\n"
     ]
    }
   ],
   "source": [
    "!python3 -m pip install seaborn"
   ]
  },
  {
   "cell_type": "code",
   "execution_count": 4,
   "id": "9ed225e3-f8c7-4ccf-b9ef-4acdfe9658d9",
   "metadata": {},
   "outputs": [
    {
     "name": "stdout",
     "output_type": "stream",
     "text": [
      "Requirement already satisfied: xgboost in /Users/saniab/Desktop/nhanes_2023-main/env/lib/python3.11/site-packages (1.7.6)\n",
      "Requirement already satisfied: numpy in /Users/saniab/Desktop/nhanes_2023-main/env/lib/python3.11/site-packages (from xgboost) (1.25.1)\n",
      "Requirement already satisfied: scipy in /Users/saniab/Desktop/nhanes_2023-main/env/lib/python3.11/site-packages (from xgboost) (1.11.1)\n",
      "\n",
      "\u001b[1m[\u001b[0m\u001b[34;49mnotice\u001b[0m\u001b[1;39;49m]\u001b[0m\u001b[39;49m A new release of pip is available: \u001b[0m\u001b[31;49m23.1.2\u001b[0m\u001b[39;49m -> \u001b[0m\u001b[32;49m23.2.1\u001b[0m\n",
      "\u001b[1m[\u001b[0m\u001b[34;49mnotice\u001b[0m\u001b[1;39;49m]\u001b[0m\u001b[39;49m To update, run: \u001b[0m\u001b[32;49mpip install --upgrade pip\u001b[0m\n"
     ]
    }
   ],
   "source": [
    "!pip install xgboost"
   ]
  },
  {
   "cell_type": "code",
   "execution_count": 5,
   "id": "bf80820e-ff74-4304-8acb-9bd4e0936827",
   "metadata": {
    "editable": true,
    "slideshow": {
     "slide_type": ""
    },
    "tags": []
   },
   "outputs": [],
   "source": [
    "import pandas as pd\n",
    "import numpy as np\n",
    "import os\n",
    "\n",
    "from scipy.stats import zscore #tells how far datapoint is from mean (error measurement)\n",
    "from sklearn.model_selection import train_test_split\n",
    "\n",
    "from sklearn.pipeline import Pipeline\n",
    "import matplotlib.pyplot as plt\n",
    "from sklearn.metrics import confusion_matrix\n",
    "import seaborn as sns\n",
    "\n",
    "from sklearn.decomposition import PCA #dimensionality reduction\n",
    "from sklearn.impute import SimpleImputer #Replaces missing values with some kind of standard or qualitative data\n",
    "from sklearn.preprocessing import OneHotEncoder #Converts categorical data into numerical \n",
    "from sklearn.preprocessing import StandardScaler #standardizes features by scaling to unit variance and removing mean\n",
    "\n",
    "from sklearn.linear_model import LogisticRegression #imports model \n",
    "#Import other models we are using\n",
    "from sklearn.ensemble import RandomForestClassifier\n",
    "from sklearn.naive_bayes import GaussianNB\n",
    "from sklearn.naive_bayes import MultinomialNB\n",
    "from sklearn.neighbors import KNeighborsClassifier\n",
    "from sklearn.pipeline import make_pipeline\n",
    "from sklearn.metrics import PrecisionRecallDisplay\n",
    "import xgboost as xgb\n",
    "from sklearn.tree import DecisionTreeClassifier\n",
    "\n",
    "\n",
    "from sklearn.model_selection import cross_validate #estimates skill of model on new data\n",
    "from sklearn.metrics import roc_auc_score #compares true positives / false positives\n",
    "from sklearn import metrics\n",
    "from sklearn.inspection import permutation_importance\n",
    "\n",
    "import joblib\n",
    "import pickle"
   ]
  },
  {
   "cell_type": "code",
   "execution_count": 6,
   "id": "7f1881f0-9e78-4d07-96e0-56091cf3b6c4",
   "metadata": {},
   "outputs": [],
   "source": [
    "#reads in compiled, merged df\n",
    "merged_nhanes_df = pd.read_csv('../data/processed/merged_nhanes.csv')"
   ]
  },
  {
   "cell_type": "code",
   "execution_count": 7,
   "id": "5073d82d-b058-4a2c-921f-53fc87b4aab2",
   "metadata": {},
   "outputs": [],
   "source": [
    "merged_nhanes_df['CFDCST1'] = zscore(merged_nhanes_df['CFDCST1'])\n",
    "merged_nhanes_df['CFDCSR'] = zscore(merged_nhanes_df['CFDCSR'])\n",
    "merged_nhanes_df['CFDDS'] = zscore(merged_nhanes_df['CFDDS'])\n",
    "merged_nhanes_df['CFDAST'] = zscore(merged_nhanes_df['CFDAST'])"
   ]
  },
  {
   "cell_type": "code",
   "execution_count": 8,
   "id": "1c8662d8-706c-4940-91c3-4f7263d54dd8",
   "metadata": {},
   "outputs": [
    {
     "data": {
      "text/html": [
       "<div>\n",
       "<style scoped>\n",
       "    .dataframe tbody tr th:only-of-type {\n",
       "        vertical-align: middle;\n",
       "    }\n",
       "\n",
       "    .dataframe tbody tr th {\n",
       "        vertical-align: top;\n",
       "    }\n",
       "\n",
       "    .dataframe thead th {\n",
       "        text-align: right;\n",
       "    }\n",
       "</style>\n",
       "<table border=\"1\" class=\"dataframe\">\n",
       "  <thead>\n",
       "    <tr style=\"text-align: right;\">\n",
       "      <th></th>\n",
       "      <th>SEQN</th>\n",
       "      <th>CFASTAT</th>\n",
       "      <th>CFALANG</th>\n",
       "      <th>CFDCCS</th>\n",
       "      <th>CFDCST1</th>\n",
       "      <th>CFDCST2</th>\n",
       "      <th>CFDCST3</th>\n",
       "      <th>CFDCSR</th>\n",
       "      <th>CFDCIT1</th>\n",
       "      <th>CFDCIT2</th>\n",
       "      <th>...</th>\n",
       "      <th>DPQ080</th>\n",
       "      <th>DPQ090</th>\n",
       "      <th>FSD032A</th>\n",
       "      <th>FSD032B</th>\n",
       "      <th>FSD032C</th>\n",
       "      <th>FSDHH</th>\n",
       "      <th>FSDAD</th>\n",
       "      <th>FSD151</th>\n",
       "      <th>FSQ165</th>\n",
       "      <th>cognitive_decline_label</th>\n",
       "    </tr>\n",
       "  </thead>\n",
       "  <tbody>\n",
       "    <tr>\n",
       "      <th>0</th>\n",
       "      <td>62174.0</td>\n",
       "      <td>1.0</td>\n",
       "      <td>1.0</td>\n",
       "      <td>1.0</td>\n",
       "      <td>-0.926351</td>\n",
       "      <td>6.0</td>\n",
       "      <td>7.0</td>\n",
       "      <td>-0.288461</td>\n",
       "      <td>5.397605e-79</td>\n",
       "      <td>5.397605e-79</td>\n",
       "      <td>...</td>\n",
       "      <td>5.397605e-79</td>\n",
       "      <td>5.397605e-79</td>\n",
       "      <td>3.0</td>\n",
       "      <td>3.0</td>\n",
       "      <td>3.0</td>\n",
       "      <td>1.0</td>\n",
       "      <td>1.0</td>\n",
       "      <td>2.0</td>\n",
       "      <td>2.0</td>\n",
       "      <td>False</td>\n",
       "    </tr>\n",
       "    <tr>\n",
       "      <th>1</th>\n",
       "      <td>62174.0</td>\n",
       "      <td>1.0</td>\n",
       "      <td>1.0</td>\n",
       "      <td>1.0</td>\n",
       "      <td>-0.926351</td>\n",
       "      <td>6.0</td>\n",
       "      <td>7.0</td>\n",
       "      <td>-0.288461</td>\n",
       "      <td>5.397605e-79</td>\n",
       "      <td>5.397605e-79</td>\n",
       "      <td>...</td>\n",
       "      <td>5.397605e-79</td>\n",
       "      <td>5.397605e-79</td>\n",
       "      <td>3.0</td>\n",
       "      <td>3.0</td>\n",
       "      <td>3.0</td>\n",
       "      <td>1.0</td>\n",
       "      <td>1.0</td>\n",
       "      <td>2.0</td>\n",
       "      <td>2.0</td>\n",
       "      <td>False</td>\n",
       "    </tr>\n",
       "    <tr>\n",
       "      <th>2</th>\n",
       "      <td>62174.0</td>\n",
       "      <td>1.0</td>\n",
       "      <td>1.0</td>\n",
       "      <td>1.0</td>\n",
       "      <td>-0.926351</td>\n",
       "      <td>6.0</td>\n",
       "      <td>7.0</td>\n",
       "      <td>-0.288461</td>\n",
       "      <td>5.397605e-79</td>\n",
       "      <td>5.397605e-79</td>\n",
       "      <td>...</td>\n",
       "      <td>5.397605e-79</td>\n",
       "      <td>5.397605e-79</td>\n",
       "      <td>3.0</td>\n",
       "      <td>3.0</td>\n",
       "      <td>3.0</td>\n",
       "      <td>1.0</td>\n",
       "      <td>1.0</td>\n",
       "      <td>2.0</td>\n",
       "      <td>2.0</td>\n",
       "      <td>False</td>\n",
       "    </tr>\n",
       "    <tr>\n",
       "      <th>3</th>\n",
       "      <td>62174.0</td>\n",
       "      <td>1.0</td>\n",
       "      <td>1.0</td>\n",
       "      <td>1.0</td>\n",
       "      <td>-0.926351</td>\n",
       "      <td>6.0</td>\n",
       "      <td>7.0</td>\n",
       "      <td>-0.288461</td>\n",
       "      <td>5.397605e-79</td>\n",
       "      <td>5.397605e-79</td>\n",
       "      <td>...</td>\n",
       "      <td>5.397605e-79</td>\n",
       "      <td>5.397605e-79</td>\n",
       "      <td>3.0</td>\n",
       "      <td>3.0</td>\n",
       "      <td>3.0</td>\n",
       "      <td>1.0</td>\n",
       "      <td>1.0</td>\n",
       "      <td>2.0</td>\n",
       "      <td>2.0</td>\n",
       "      <td>False</td>\n",
       "    </tr>\n",
       "    <tr>\n",
       "      <th>4</th>\n",
       "      <td>62174.0</td>\n",
       "      <td>1.0</td>\n",
       "      <td>1.0</td>\n",
       "      <td>1.0</td>\n",
       "      <td>-0.926351</td>\n",
       "      <td>6.0</td>\n",
       "      <td>7.0</td>\n",
       "      <td>-0.288461</td>\n",
       "      <td>5.397605e-79</td>\n",
       "      <td>5.397605e-79</td>\n",
       "      <td>...</td>\n",
       "      <td>5.397605e-79</td>\n",
       "      <td>5.397605e-79</td>\n",
       "      <td>3.0</td>\n",
       "      <td>3.0</td>\n",
       "      <td>3.0</td>\n",
       "      <td>1.0</td>\n",
       "      <td>1.0</td>\n",
       "      <td>2.0</td>\n",
       "      <td>2.0</td>\n",
       "      <td>False</td>\n",
       "    </tr>\n",
       "    <tr>\n",
       "      <th>...</th>\n",
       "      <td>...</td>\n",
       "      <td>...</td>\n",
       "      <td>...</td>\n",
       "      <td>...</td>\n",
       "      <td>...</td>\n",
       "      <td>...</td>\n",
       "      <td>...</td>\n",
       "      <td>...</td>\n",
       "      <td>...</td>\n",
       "      <td>...</td>\n",
       "      <td>...</td>\n",
       "      <td>...</td>\n",
       "      <td>...</td>\n",
       "      <td>...</td>\n",
       "      <td>...</td>\n",
       "      <td>...</td>\n",
       "      <td>...</td>\n",
       "      <td>...</td>\n",
       "      <td>...</td>\n",
       "      <td>...</td>\n",
       "      <td>...</td>\n",
       "    </tr>\n",
       "    <tr>\n",
       "      <th>11999</th>\n",
       "      <td>83724.0</td>\n",
       "      <td>1.0</td>\n",
       "      <td>1.0</td>\n",
       "      <td>1.0</td>\n",
       "      <td>-0.926351</td>\n",
       "      <td>6.0</td>\n",
       "      <td>6.0</td>\n",
       "      <td>-0.288461</td>\n",
       "      <td>5.397605e-79</td>\n",
       "      <td>1.000000e+00</td>\n",
       "      <td>...</td>\n",
       "      <td>5.397605e-79</td>\n",
       "      <td>5.397605e-79</td>\n",
       "      <td>3.0</td>\n",
       "      <td>3.0</td>\n",
       "      <td>3.0</td>\n",
       "      <td>1.0</td>\n",
       "      <td>1.0</td>\n",
       "      <td>2.0</td>\n",
       "      <td>2.0</td>\n",
       "      <td>False</td>\n",
       "    </tr>\n",
       "    <tr>\n",
       "      <th>12000</th>\n",
       "      <td>83724.0</td>\n",
       "      <td>1.0</td>\n",
       "      <td>1.0</td>\n",
       "      <td>1.0</td>\n",
       "      <td>-0.926351</td>\n",
       "      <td>6.0</td>\n",
       "      <td>6.0</td>\n",
       "      <td>-0.288461</td>\n",
       "      <td>5.397605e-79</td>\n",
       "      <td>1.000000e+00</td>\n",
       "      <td>...</td>\n",
       "      <td>5.397605e-79</td>\n",
       "      <td>5.397605e-79</td>\n",
       "      <td>3.0</td>\n",
       "      <td>3.0</td>\n",
       "      <td>3.0</td>\n",
       "      <td>1.0</td>\n",
       "      <td>1.0</td>\n",
       "      <td>2.0</td>\n",
       "      <td>2.0</td>\n",
       "      <td>False</td>\n",
       "    </tr>\n",
       "    <tr>\n",
       "      <th>12001</th>\n",
       "      <td>83724.0</td>\n",
       "      <td>1.0</td>\n",
       "      <td>1.0</td>\n",
       "      <td>1.0</td>\n",
       "      <td>-0.926351</td>\n",
       "      <td>6.0</td>\n",
       "      <td>6.0</td>\n",
       "      <td>-0.288461</td>\n",
       "      <td>5.397605e-79</td>\n",
       "      <td>1.000000e+00</td>\n",
       "      <td>...</td>\n",
       "      <td>5.397605e-79</td>\n",
       "      <td>5.397605e-79</td>\n",
       "      <td>3.0</td>\n",
       "      <td>3.0</td>\n",
       "      <td>3.0</td>\n",
       "      <td>1.0</td>\n",
       "      <td>1.0</td>\n",
       "      <td>2.0</td>\n",
       "      <td>2.0</td>\n",
       "      <td>False</td>\n",
       "    </tr>\n",
       "    <tr>\n",
       "      <th>12002</th>\n",
       "      <td>83724.0</td>\n",
       "      <td>1.0</td>\n",
       "      <td>1.0</td>\n",
       "      <td>1.0</td>\n",
       "      <td>-0.926351</td>\n",
       "      <td>6.0</td>\n",
       "      <td>6.0</td>\n",
       "      <td>-0.288461</td>\n",
       "      <td>5.397605e-79</td>\n",
       "      <td>1.000000e+00</td>\n",
       "      <td>...</td>\n",
       "      <td>5.397605e-79</td>\n",
       "      <td>5.397605e-79</td>\n",
       "      <td>3.0</td>\n",
       "      <td>3.0</td>\n",
       "      <td>3.0</td>\n",
       "      <td>1.0</td>\n",
       "      <td>1.0</td>\n",
       "      <td>2.0</td>\n",
       "      <td>2.0</td>\n",
       "      <td>False</td>\n",
       "    </tr>\n",
       "    <tr>\n",
       "      <th>12003</th>\n",
       "      <td>83724.0</td>\n",
       "      <td>1.0</td>\n",
       "      <td>1.0</td>\n",
       "      <td>1.0</td>\n",
       "      <td>-0.926351</td>\n",
       "      <td>6.0</td>\n",
       "      <td>6.0</td>\n",
       "      <td>-0.288461</td>\n",
       "      <td>5.397605e-79</td>\n",
       "      <td>1.000000e+00</td>\n",
       "      <td>...</td>\n",
       "      <td>5.397605e-79</td>\n",
       "      <td>5.397605e-79</td>\n",
       "      <td>3.0</td>\n",
       "      <td>3.0</td>\n",
       "      <td>3.0</td>\n",
       "      <td>1.0</td>\n",
       "      <td>1.0</td>\n",
       "      <td>2.0</td>\n",
       "      <td>2.0</td>\n",
       "      <td>False</td>\n",
       "    </tr>\n",
       "  </tbody>\n",
       "</table>\n",
       "<p>12004 rows × 176 columns</p>\n",
       "</div>"
      ],
      "text/plain": [
       "          SEQN  CFASTAT  CFALANG  CFDCCS   CFDCST1  CFDCST2  CFDCST3  \\\n",
       "0      62174.0      1.0      1.0     1.0 -0.926351      6.0      7.0   \n",
       "1      62174.0      1.0      1.0     1.0 -0.926351      6.0      7.0   \n",
       "2      62174.0      1.0      1.0     1.0 -0.926351      6.0      7.0   \n",
       "3      62174.0      1.0      1.0     1.0 -0.926351      6.0      7.0   \n",
       "4      62174.0      1.0      1.0     1.0 -0.926351      6.0      7.0   \n",
       "...        ...      ...      ...     ...       ...      ...      ...   \n",
       "11999  83724.0      1.0      1.0     1.0 -0.926351      6.0      6.0   \n",
       "12000  83724.0      1.0      1.0     1.0 -0.926351      6.0      6.0   \n",
       "12001  83724.0      1.0      1.0     1.0 -0.926351      6.0      6.0   \n",
       "12002  83724.0      1.0      1.0     1.0 -0.926351      6.0      6.0   \n",
       "12003  83724.0      1.0      1.0     1.0 -0.926351      6.0      6.0   \n",
       "\n",
       "         CFDCSR       CFDCIT1       CFDCIT2  ...        DPQ080        DPQ090  \\\n",
       "0     -0.288461  5.397605e-79  5.397605e-79  ...  5.397605e-79  5.397605e-79   \n",
       "1     -0.288461  5.397605e-79  5.397605e-79  ...  5.397605e-79  5.397605e-79   \n",
       "2     -0.288461  5.397605e-79  5.397605e-79  ...  5.397605e-79  5.397605e-79   \n",
       "3     -0.288461  5.397605e-79  5.397605e-79  ...  5.397605e-79  5.397605e-79   \n",
       "4     -0.288461  5.397605e-79  5.397605e-79  ...  5.397605e-79  5.397605e-79   \n",
       "...         ...           ...           ...  ...           ...           ...   \n",
       "11999 -0.288461  5.397605e-79  1.000000e+00  ...  5.397605e-79  5.397605e-79   \n",
       "12000 -0.288461  5.397605e-79  1.000000e+00  ...  5.397605e-79  5.397605e-79   \n",
       "12001 -0.288461  5.397605e-79  1.000000e+00  ...  5.397605e-79  5.397605e-79   \n",
       "12002 -0.288461  5.397605e-79  1.000000e+00  ...  5.397605e-79  5.397605e-79   \n",
       "12003 -0.288461  5.397605e-79  1.000000e+00  ...  5.397605e-79  5.397605e-79   \n",
       "\n",
       "       FSD032A  FSD032B  FSD032C  FSDHH  FSDAD  FSD151  FSQ165  \\\n",
       "0          3.0      3.0      3.0    1.0    1.0     2.0     2.0   \n",
       "1          3.0      3.0      3.0    1.0    1.0     2.0     2.0   \n",
       "2          3.0      3.0      3.0    1.0    1.0     2.0     2.0   \n",
       "3          3.0      3.0      3.0    1.0    1.0     2.0     2.0   \n",
       "4          3.0      3.0      3.0    1.0    1.0     2.0     2.0   \n",
       "...        ...      ...      ...    ...    ...     ...     ...   \n",
       "11999      3.0      3.0      3.0    1.0    1.0     2.0     2.0   \n",
       "12000      3.0      3.0      3.0    1.0    1.0     2.0     2.0   \n",
       "12001      3.0      3.0      3.0    1.0    1.0     2.0     2.0   \n",
       "12002      3.0      3.0      3.0    1.0    1.0     2.0     2.0   \n",
       "12003      3.0      3.0      3.0    1.0    1.0     2.0     2.0   \n",
       "\n",
       "       cognitive_decline_label  \n",
       "0                        False  \n",
       "1                        False  \n",
       "2                        False  \n",
       "3                        False  \n",
       "4                        False  \n",
       "...                        ...  \n",
       "11999                    False  \n",
       "12000                    False  \n",
       "12001                    False  \n",
       "12002                    False  \n",
       "12003                    False  \n",
       "\n",
       "[12004 rows x 176 columns]"
      ]
     },
     "execution_count": 8,
     "metadata": {},
     "output_type": "execute_result"
    }
   ],
   "source": [
    "merged_nhanes_df['cognitive_decline_label'] = merged_nhanes_df[['CFDCST1', 'CFDCSR','CFDDS', 'CFDAST']].mean(axis = 1)\n",
    "merged_nhanes_df['cognitive_decline_label'] = merged_nhanes_df['cognitive_decline_label'] < merged_nhanes_df['cognitive_decline_label'].quantile(0.1)\n",
    "merged_nhanes_df"
   ]
  },
  {
   "cell_type": "code",
   "execution_count": 9,
   "id": "55d2f53b-29e4-4b91-9f17-5781fec2bcd8",
   "metadata": {
    "scrolled": true
   },
   "outputs": [
    {
     "data": {
      "text/plain": [
       "['SEQN',\n",
       " 'CFASTAT',\n",
       " 'CFALANG',\n",
       " 'CFDCCS',\n",
       " 'CFDCST1',\n",
       " 'CFDCST2',\n",
       " 'CFDCST3',\n",
       " 'CFDCSR',\n",
       " 'CFDCIT1',\n",
       " 'CFDCIT2',\n",
       " 'CFDCIT3',\n",
       " 'CFDCIR',\n",
       " 'CFDAPP',\n",
       " 'CFDAST',\n",
       " 'CFDDPP',\n",
       " 'CFDDS',\n",
       " 'WHD010',\n",
       " 'WHD020',\n",
       " 'WHQ030',\n",
       " 'WHQ040',\n",
       " 'WHD050',\n",
       " 'WHD110',\n",
       " 'WHD120',\n",
       " 'WHD130',\n",
       " 'WHD140',\n",
       " 'WHQ150',\n",
       " 'HOD050',\n",
       " 'HOQ065',\n",
       " 'HUQ010',\n",
       " 'HUQ020',\n",
       " 'HUQ030',\n",
       " 'HUQ071',\n",
       " 'HUQ090',\n",
       " 'SDDSRVYR',\n",
       " 'RIDSTATR',\n",
       " 'RIAGENDR',\n",
       " 'RIDAGEYR',\n",
       " 'RIDRETH1',\n",
       " 'RIDRETH3',\n",
       " 'RIDEXMON',\n",
       " 'DMQMILIZ',\n",
       " 'DMDBORN4',\n",
       " 'DMDCITZN',\n",
       " 'DMDEDUC2',\n",
       " 'DMDMARTL',\n",
       " 'SIALANG',\n",
       " 'SIAPROXY',\n",
       " 'SIAINTRP',\n",
       " 'FIALANG',\n",
       " 'FIAPROXY',\n",
       " 'FIAINTRP',\n",
       " 'MIALANG',\n",
       " 'MIAPROXY',\n",
       " 'MIAINTRP',\n",
       " 'DMDHHSIZ',\n",
       " 'DMDFMSIZ',\n",
       " 'DMDHHSZA',\n",
       " 'DMDHHSZB',\n",
       " 'DMDHHSZE',\n",
       " 'DMDHRGND',\n",
       " 'DMDHRAGE',\n",
       " 'DMDHRBR4',\n",
       " 'DMDHREDU',\n",
       " 'DMDHRMAR',\n",
       " 'WTINT2YR',\n",
       " 'WTMEC2YR',\n",
       " 'SDMVPSU',\n",
       " 'SDMVSTRA',\n",
       " 'INDHHIN2',\n",
       " 'INDFMIN2',\n",
       " 'INDFMPIR',\n",
       " 'MCQ010',\n",
       " 'MCQ053',\n",
       " 'MCQ070',\n",
       " 'MCQ080',\n",
       " 'MCQ082',\n",
       " 'MCQ084',\n",
       " 'MCQ086',\n",
       " 'MCQ092',\n",
       " 'MCQ160A',\n",
       " 'MCQ160N',\n",
       " 'MCQ160B',\n",
       " 'MCQ160C',\n",
       " 'MCQ160D',\n",
       " 'MCQ160E',\n",
       " 'MCQ160F',\n",
       " 'MCQ160G',\n",
       " 'MCQ160M',\n",
       " 'MCQ160K',\n",
       " 'MCQ160L',\n",
       " 'MCQ220',\n",
       " 'MCQ300A',\n",
       " 'MCQ300B',\n",
       " 'MCQ300C',\n",
       " 'MCQ365A',\n",
       " 'MCQ365B',\n",
       " 'MCQ365C',\n",
       " 'MCQ365D',\n",
       " 'MCQ370A',\n",
       " 'MCQ370B',\n",
       " 'MCQ370C',\n",
       " 'MCQ370D',\n",
       " 'MCQ380',\n",
       " 'DIQ010',\n",
       " 'DIQ050',\n",
       " 'ALQ101',\n",
       " 'IMQ011',\n",
       " 'IMQ020',\n",
       " 'BPQ020',\n",
       " 'BPQ056',\n",
       " 'BPQ059',\n",
       " 'BPQ080',\n",
       " 'BPQ070',\n",
       " 'BPQ090D',\n",
       " 'SLD010H',\n",
       " 'SLQ050',\n",
       " 'SLQ060',\n",
       " 'SMQ020',\n",
       " 'SMDUPCA',\n",
       " 'SMD100BR',\n",
       " 'SMAQUEX2',\n",
       " 'DBQ700',\n",
       " 'DBQ197',\n",
       " 'DBQ229',\n",
       " 'DBQ301',\n",
       " 'DBQ330',\n",
       " 'DBD895',\n",
       " 'DBD905',\n",
       " 'DBD910',\n",
       " 'RXDUSE',\n",
       " 'RXDDRUG',\n",
       " 'RXDDRGID',\n",
       " 'RXQSEEN',\n",
       " 'RXDDAYS',\n",
       " 'RXDCOUNT',\n",
       " 'OCD150',\n",
       " 'OCD390G',\n",
       " 'CDQ001',\n",
       " 'CDQ010',\n",
       " 'INQ020',\n",
       " 'INQ012',\n",
       " 'INQ030',\n",
       " 'INQ060',\n",
       " 'INQ080',\n",
       " 'INQ090',\n",
       " 'INQ132',\n",
       " 'INQ140',\n",
       " 'INQ150',\n",
       " 'IND235',\n",
       " 'INDFMMPC',\n",
       " 'PAQ605',\n",
       " 'PAQ620',\n",
       " 'PAQ635',\n",
       " 'PAQ650',\n",
       " 'PAQ665',\n",
       " 'PAD680',\n",
       " 'PAQ710',\n",
       " 'PAQ715',\n",
       " 'PAAQUEX',\n",
       " 'DPQ010',\n",
       " 'DPQ020',\n",
       " 'DPQ030',\n",
       " 'DPQ040',\n",
       " 'DPQ050',\n",
       " 'DPQ060',\n",
       " 'DPQ070',\n",
       " 'DPQ080',\n",
       " 'DPQ090',\n",
       " 'FSD032A',\n",
       " 'FSD032B',\n",
       " 'FSD032C',\n",
       " 'FSDHH',\n",
       " 'FSDAD',\n",
       " 'FSD151',\n",
       " 'FSQ165',\n",
       " 'cognitive_decline_label']"
      ]
     },
     "execution_count": 9,
     "metadata": {},
     "output_type": "execute_result"
    }
   ],
   "source": [
    "[x for x in merged_nhanes_df.columns]"
   ]
  },
  {
   "cell_type": "code",
   "execution_count": 39,
   "id": "5eb1cd3e-ca35-496b-9fef-1d9795dd36ea",
   "metadata": {
    "editable": true,
    "slideshow": {
     "slide_type": ""
    },
    "tags": []
   },
   "outputs": [
    {
     "data": {
      "text/plain": [
       "16"
      ]
     },
     "execution_count": 39,
     "metadata": {},
     "output_type": "execute_result"
    }
   ],
   "source": [
    "label = ['cognitive_decline_label']\n",
    "features = ['MCQ053', 'SLQ060', 'RIAGENDR', 'RIDAGEYR', 'RIDRETH3', 'INDHHIN2', 'BPQ020','BPQ080', 'DIQ010', 'PAD680', 'CDQ001', 'DPQ020', 'MCQ080', 'MCQ084', 'MCQ140', 'MCQ160c', 'MCQ160f', 'MCQ220', 'HUQ050', 'DUQ272', 'DBQ700']\n",
    "#discluded_features = [x for x in features if x not in merged_nhanes_df.columns]\n",
    "features = [x for x in features if x in merged_nhanes_df.columns]\n",
    "len(features)"
   ]
  },
  {
   "cell_type": "code",
   "execution_count": 40,
   "id": "391c4e6d-c9b3-4082-b5f2-a5078cb0f5b0",
   "metadata": {},
   "outputs": [],
   "source": [
    "for feature in features:\n",
    "    merged_nhanes_df[feature] = np.floor(merged_nhanes_df[feature]).astype('Int64')"
   ]
  },
  {
   "cell_type": "code",
   "execution_count": 41,
   "id": "83e64ada-6b82-4c9d-8ef6-2252e4ad8b8f",
   "metadata": {},
   "outputs": [],
   "source": [
    "y = merged_nhanes_df[label].values.ravel() #compresses 2D array to 1D\n",
    "X = merged_nhanes_df[features]\n",
    "\n",
    "X_train, X_test, y_train, y_test = train_test_split(X, y, test_size=0.2, random_state=42)"
   ]
  },
  {
   "cell_type": "code",
   "execution_count": 13,
   "id": "93e5a35a-959b-4057-bf6d-dd5cdbbad649",
   "metadata": {
    "editable": true,
    "slideshow": {
     "slide_type": ""
    },
    "tags": []
   },
   "outputs": [],
   "source": [
    "lr_pipe = Pipeline([\n",
    "    ('imputer', SimpleImputer(strategy='most_frequent')),\n",
    "    ('enc', OneHotEncoder(handle_unknown='ignore')),\n",
    "    ('clf', LogisticRegression(max_iter=1000))\n",
    "])\n",
    "lr_pipe.fit(X_train, y_train)\n",
    "lr_training_score = roc_auc_score(y_train, lr_pipe.predict_proba(X_train)[:, 1])\n",
    "lr_scores = cross_validate(lr_pipe, X_train, y_train, cv=5, scoring='roc_auc')"
   ]
  },
  {
   "cell_type": "code",
   "execution_count": 14,
   "id": "2cc4df26-420a-4515-bb08-b679cb73b3b8",
   "metadata": {},
   "outputs": [
    {
     "name": "stdout",
     "output_type": "stream",
     "text": [
      "              precision    recall  f1-score   support\n",
      "\n",
      "       False       0.99      1.00      1.00      2188\n",
      "        True       1.00      0.94      0.97       213\n",
      "\n",
      "    accuracy                           1.00      2401\n",
      "   macro avg       1.00      0.97      0.98      2401\n",
      "weighted avg       1.00      1.00      0.99      2401\n",
      "\n"
     ]
    },
    {
     "data": {
      "image/png": "[encoded data removed]",
      "text/plain": [
       "<Figure size 1000x700 with 2 Axes>"
      ]
     },
     "metadata": {},
     "output_type": "display_data"
    }
   ],
   "source": [
    "rf_pipe = pipe = Pipeline([('imputer', SimpleImputer(strategy='most_frequent')), \n",
    "                 ('clf', RandomForestClassifier(warm_start=True))])\n",
    "rf_pipe.fit(X_train, y_train)\n",
    "rf_training_score = roc_auc_score(y_train, rf_pipe.predict_proba(X_train)[:, 1])\n",
    "rf_scores = cross_validate(rf_pipe, X_train, y_train, cv=5, scoring='roc_auc')\n",
    "rf_predicts = rf_pipe.predict(X_test)\n",
    "print(metrics.classification_report(y_test, rf_predicts))\n",
    "\n",
    "# the confusion matrix for the rf model\n",
    "rf_cm = confusion_matrix(y_test,rf_predicts)\n",
    "rf_cm_df = pd.DataFrame(\n",
    "    rf_cm, \n",
    "    index = ['True','False'],\n",
    "    columns = [col for col in ['CD (pred)', 'No CD (pred)']])\n",
    "plt.figure(figsize = (10,7))\n",
    "sns.heatmap(rf_cm_df, annot=True)\n",
    "plt.show()"
   ]
  },
  {
   "cell_type": "code",
   "execution_count": 35,
   "id": "2b8200a3-25d1-44ce-b879-d3e877173ef9",
   "metadata": {
    "editable": true,
    "slideshow": {
     "slide_type": ""
    },
    "tags": []
   },
   "outputs": [
    {
     "name": "stdout",
     "output_type": "stream",
     "text": [
      "              precision    recall  f1-score   support\n",
      "\n",
      "       False       0.99      1.00      0.99      2188\n",
      "        True       1.00      0.85      0.92       213\n",
      "\n",
      "    accuracy                           0.99      2401\n",
      "   macro avg       0.99      0.92      0.96      2401\n",
      "weighted avg       0.99      0.99      0.99      2401\n",
      "\n"
     ]
    },
    {
     "data": {
      "image/png": "[encoded data removed]",
      "text/plain": [
       "<Figure size 1000x700 with 2 Axes>"
      ]
     },
     "metadata": {},
     "output_type": "display_data"
    }
   ],
   "source": [
    "knn_pipe = Pipeline([\n",
    "    ('imputer', SimpleImputer(strategy='most_frequent')),\n",
    "    ('enc', OneHotEncoder(handle_unknown='ignore')),\n",
    "    ('clf', KNeighborsClassifier(n_neighbors=2))\n",
    "])\n",
    "knn_pipe.fit(X_train, y_train)\n",
    "knn_training_score = roc_auc_score(y_train, knn_pipe.predict_proba(X_train)[:, 1])\n",
    "knn_scores = cross_validate(knn_pipe, X_train, y_train, cv=5, scoring='roc_auc')\n",
    "knn_predicts = knn_pipe.predict(X_test)\n",
    "print(metrics.classification_report(y_test, knn_predicts))\n",
    "\n",
    "\n",
    "# the confusion matrix for the rf model\n",
    "knn_cm = confusion_matrix(y_test,knn_predicts)\n",
    "knn_cm_df = pd.DataFrame(\n",
    "    knn_cm, \n",
    "    index = ['True','False'],\n",
    "    columns = [col for col in ['CD (pred)', 'No CD (pred)']])\n",
    "plt.figure(figsize = (10,7))\n",
    "sns.heatmap(knn_cm_df, annot=True)\n",
    "plt.show()"
   ]
  },
  {
   "cell_type": "code",
   "execution_count": 42,
   "id": "6fb9a0ab-8c04-4537-9816-d0d0e80e0ae1",
   "metadata": {
    "editable": true,
    "slideshow": {
     "slide_type": ""
    },
    "tags": []
   },
   "outputs": [
    {
     "name": "stdout",
     "output_type": "stream",
     "text": [
      "              precision    recall  f1-score   support\n",
      "\n",
      "       False       0.99      1.00      0.99      2188\n",
      "        True       0.99      0.89      0.94       213\n",
      "\n",
      "    accuracy                           0.99      2401\n",
      "   macro avg       0.99      0.94      0.97      2401\n",
      "weighted avg       0.99      0.99      0.99      2401\n",
      "\n"
     ]
    },
    {
     "data": {
      "image/png": "[encoded data removed]",
      "text/plain": [
       "<Figure size 1000x700 with 2 Axes>"
      ]
     },
     "metadata": {},
     "output_type": "display_data"
    }
   ],
   "source": [
    "xgb_pipe = Pipeline([\n",
    "    ('imputer', SimpleImputer(strategy='most_frequent')),\n",
    "    ('enc', OneHotEncoder(handle_unknown='ignore')),\n",
    "    ('clf', xgb.XGBClassifier())\n",
    "])\n",
    "\n",
    "xgb_pipe.fit(X_train, y_train)\n",
    "xgb_training_score = roc_auc_score(y_train, xgb_pipe.predict_proba(X_train)[:, 1])\n",
    "xgb_scores = cross_validate(xgb_pipe, X_train, y_train, cv=5, scoring='roc_auc')\n",
    "xgb_predicts = xgb_pipe.predict(X_test)\n",
    "print(metrics.classification_report(y_test, xgb_predicts))\n",
    "\n",
    "# the confusion matrix for the rf model\n",
    "xgb_cm = confusion_matrix(y_test,xgb_predicts)\n",
    "xgb_cm_df = pd.DataFrame(\n",
    "    xgb_cm, \n",
    "    index = ['True','False'],\n",
    "    columns = [col for col in ['CD (pred)', 'No CD (pred)']])\n",
    "plt.figure(figsize = (10,7))\n",
    "sns.heatmap(xgb_cm_df, annot=True)\n",
    "plt.show()"
   ]
  },
  {
   "cell_type": "code",
   "execution_count": 17,
   "id": "6caa88ee-dea2-4899-ab2b-ea152d5962a3",
   "metadata": {
    "editable": true,
    "slideshow": {
     "slide_type": ""
    },
    "tags": []
   },
   "outputs": [],
   "source": [
    "nb_pipe = Pipeline([\n",
    "    ('imputer', SimpleImputer(strategy='most_frequent')),\n",
    "    ('enc', OneHotEncoder(handle_unknown='ignore')),\n",
    "    ('clf', MultinomialNB())\n",
    "])\n",
    "nb_pipe.fit(X_train, y_train)\n",
    "nb_training_score = roc_auc_score(y_train, nb_pipe.predict_proba(X_train)[:, 1])\n",
    "nb_scores = cross_validate(nb_pipe, X_train, y_train, cv=5, scoring='roc_auc')"
   ]
  },
  {
   "cell_type": "code",
   "execution_count": 18,
   "id": "4fc49e14-ff67-474f-b9ce-70badebbbd6f",
   "metadata": {},
   "outputs": [
    {
     "data": {
      "image/png": "[encoded data removed]",
      "text/plain": [
       "<Figure size 1000x700 with 2 Axes>"
      ]
     },
     "metadata": {},
     "output_type": "display_data"
    },
    {
     "data": {
      "text/plain": [
       "{'fit_time': array([0.01664686, 0.01534104, 0.01524496, 0.01531005, 0.01523781]),\n",
       " 'score_time': array([0.00338817, 0.00334287, 0.00339723, 0.00337601, 0.00326705]),\n",
       " 'test_score': array([0.79986338, 0.81011577, 0.78904566, 0.77541846, 0.80849716])}"
      ]
     },
     "execution_count": 18,
     "metadata": {},
     "output_type": "execute_result"
    }
   ],
   "source": [
    "dt_pipe = Pipeline([\n",
    "    ('imputer', SimpleImputer(strategy='most_frequent')),\n",
    "    ('enc', OneHotEncoder(handle_unknown='ignore')),\n",
    "    ('clf', DecisionTreeClassifier())\n",
    "])\n",
    "dt_pipe.fit(X_train, y_train)\n",
    "dt_training_score = roc_auc_score(y_train, dt_pipe.predict_proba(X_train)[:, 1])\n",
    "dt_scores = cross_validate(nb_pipe, X_train, y_train, cv=5, scoring='roc_auc')\n",
    "\n",
    "# the confusion matrix for the rf model\n",
    "dt_cm = confusion_matrix(y_test,xgb_predicts)\n",
    "dt_cm_df = pd.DataFrame(\n",
    "    dt_cm, \n",
    "    index = ['True','False'],\n",
    "    columns = [col for col in ['CD (pred)', 'No CD (pred)']])\n",
    "plt.figure(figsize = (10,7))\n",
    "sns.heatmap(dt_cm_df, annot=True)\n",
    "plt.show()\n",
    "dt_scores"
   ]
  },
  {
   "cell_type": "code",
   "execution_count": 19,
   "id": "b4eae683-c2a8-422b-8471-24172a43e81f",
   "metadata": {},
   "outputs": [
    {
     "data": {
      "text/plain": [
       "1.0"
      ]
     },
     "execution_count": 19,
     "metadata": {},
     "output_type": "execute_result"
    }
   ],
   "source": [
    "rf_training_score"
   ]
  },
  {
   "cell_type": "code",
   "execution_count": 20,
   "id": "5a51267b-3ddf-4a29-a243-f9531c259b3c",
   "metadata": {},
   "outputs": [
    {
     "name": "stdout",
     "output_type": "stream",
     "text": [
      "0.996251188467064\n",
      "0.0019029612631873017\n"
     ]
    }
   ],
   "source": [
    "print(rf_scores['test_score'].mean())\n",
    "print(rf_scores['test_score'].std())"
   ]
  },
  {
   "cell_type": "code",
   "execution_count": 21,
   "id": "68163b3c-993b-4145-be48-2b20cb0dfddf",
   "metadata": {},
   "outputs": [
    {
     "data": {
      "text/plain": [
       "0.8360129398370211"
      ]
     },
     "execution_count": 21,
     "metadata": {},
     "output_type": "execute_result"
    }
   ],
   "source": [
    "lr_training_score"
   ]
  },
  {
   "cell_type": "code",
   "execution_count": 22,
   "id": "bd3fffdb-f412-4c11-972b-021b4885e1fc",
   "metadata": {},
   "outputs": [
    {
     "name": "stdout",
     "output_type": "stream",
     "text": [
      "0.8164650864914584\n",
      "0.013343939066373099\n"
     ]
    }
   ],
   "source": [
    "print(lr_scores['test_score'].mean())\n",
    "print(lr_scores['test_score'].std())"
   ]
  },
  {
   "cell_type": "code",
   "execution_count": 23,
   "id": "fad3bf07-4335-4788-a0b8-a21b0681cc61",
   "metadata": {},
   "outputs": [
    {
     "data": {
      "text/plain": [
       "0.815951499664666"
      ]
     },
     "execution_count": 23,
     "metadata": {},
     "output_type": "execute_result"
    }
   ],
   "source": [
    "nb_training_score"
   ]
  },
  {
   "cell_type": "code",
   "execution_count": 24,
   "id": "9b429b7f-13ab-498e-992d-9581ce640368",
   "metadata": {},
   "outputs": [
    {
     "name": "stdout",
     "output_type": "stream",
     "text": [
      "0.7965880877721343\n",
      "0.012966056496522329\n"
     ]
    }
   ],
   "source": [
    "print(nb_scores['test_score'].mean())\n",
    "print(nb_scores['test_score'].std())"
   ]
  },
  {
   "cell_type": "code",
   "execution_count": 25,
   "id": "57a5dac0-cd13-4a0d-b127-aba226e1a034",
   "metadata": {},
   "outputs": [
    {
     "name": "stdout",
     "output_type": "stream",
     "text": [
      "0.9716804969585914\n",
      "0.008695063043175768\n"
     ]
    }
   ],
   "source": [
    "knn_training_score\n",
    "print(knn_scores['test_score'].mean())\n",
    "print(knn_scores['test_score'].std())"
   ]
  },
  {
   "cell_type": "code",
   "execution_count": 37,
   "id": "0f27c238-e5ab-4caa-be4f-e9b99efab998",
   "metadata": {
    "editable": true,
    "slideshow": {
     "slide_type": ""
    },
    "tags": []
   },
   "outputs": [
    {
     "data": {
      "text/plain": [
       "['../models/gradient_boost_pipeline.sav']"
      ]
     },
     "execution_count": 37,
     "metadata": {},
     "output_type": "execute_result"
    }
   ],
   "source": [
    "if 'models' not in os.listdir('../'):\n",
    "    os.mkdir('../models')\n",
    "\n",
    "joblib.dump(xgb_pipe, '../models/gradient_boost_pipeline.sav')"
   ]
  },
  {
   "cell_type": "code",
   "execution_count": 38,
   "id": "07928a17-bce2-4692-a28b-c31b84537f6f",
   "metadata": {},
   "outputs": [],
   "source": [
    "pickle.dump(X_train, open('../data/processed/X_train.sav', 'wb'))\n",
    "pickle.dump(X_test, open('../data/processed/X_test.sav', 'wb'))\n",
    "pickle.dump(y_train, open('../data/processed/y_train.sav', 'wb'))\n",
    "pickle.dump(y_test, open('../data/processed/y_test.sav', 'wb'))"
   ]
  },
  {
   "cell_type": "code",
   "execution_count": null,
   "id": "2225ef53-33a1-47dc-8195-c21dd03a5d03",
   "metadata": {},
   "outputs": [],
   "source": []
  }
 ],
 "metadata": {
  "kernelspec": {
   "display_name": "Python 3 (ipykernel)",
   "language": "python",
   "name": "python3"
  },
  "language_info": {
   "codemirror_mode": {
    "name": "ipython",
    "version": 3
   },
   "file_extension": ".py",
   "mimetype": "text/x-python",
   "name": "python",
   "nbconvert_exporter": "python",
   "pygments_lexer": "ipython3",
   "version": "3.11.4"
  }
 },
 "nbformat": 4,
 "nbformat_minor": 5
}
